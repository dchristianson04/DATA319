{
 "cells": [
  {
   "cell_type": "markdown",
   "metadata": {
    "tags": []
   },
   "source": [
    "<h2> DATA 319: Model-based and Data-based Methods for Data Analytics. Fall 2025 </h2>\n",
    "<h3> Problem Set 1 </h3>\n",
    "<h3> Team <i> (Insert your team number here) </i></h3>\n",
    "<h3> Type students' names <i> (only those who contributed to the Team work)</i> here</h3>"
   ]
  },
  {
   "cell_type": "markdown",
   "metadata": {},
   "source": [
    "<h3> If you used an AI tool when working on this problem set, indicate which tool was used and when working on which problem(s).</h3>"
   ]
  },
  {
   "cell_type": "markdown",
   "metadata": {},
   "source": [
    "#### 1. In your own words, provide a definition or description for each of the following (and explain how they are different for the pairs of items):\n",
    "\n",
    "##### (a) Scatterplot vs Hexagon plot\n",
    "\n",
    "##### (b) Marginal distribution vs Conditional distribution\n",
    "\n",
    "##### (c) Probability mass function vs Probability density function\n",
    "\n",
    "##### (d) Statistical independence\n",
    "\n",
    "##### (e) Simpson's paradox"
   ]
  },
  {
   "cell_type": "markdown",
   "metadata": {},
   "source": [
    "#### 2. In your own words, provide brief responses to the following:\n",
    "\n",
    "##### (a) What problem was MapReduce introduced to solve?\n",
    "\n",
    "##### (b) What are the differences between the Map and Reduce steps?\n",
    "\n",
    "##### (c) What is skew in MapReduce?"
   ]
  },
  {
   "cell_type": "markdown",
   "metadata": {},
   "source": [
    "#### 3. Consider the two dimensional random variable (X, Y) with probability distribution given by:\n",
    "\n",
    "| X/Y | 0 | 1 | \n",
    "|:-:|:-:|:-:|\n",
    "| **0** | 0 | .20 |\n",
    "| **1** | .15 | .10 |\n",
    "| **2** | .25 | .30 |\n",
    "\n",
    "##### (a) Compute the marginal distributions of X and Y.\n",
    "\n",
    "##### (b) Compute the expected values and variances of X and Y.\n",
    "\n",
    "##### (c) Compute the covariance of X and Y using the joint distribution.\n",
    "\n",
    "##### (d) What is the distribution of X conditioned on Y=1?\n",
    "\n",
    "##### (e) Fill in the values *a-f* below so that the new distribution has the same marginals as X and Y but the resulting variables are independent:\n",
    "\n",
    "| X/Y | 0 | 1 | \n",
    "|:-:|:-:|:-:|\n",
    "| **0** |*a*|*d*|\n",
    "| **1** |*b*|*e*|\n",
    "| **2** |*c*|*f*|\n"
   ]
  },
  {
   "cell_type": "markdown",
   "metadata": {},
   "source": [
    "#### 4. Load in the Los Angeles Air Quality (LA_AQ) dataset.\n",
    "\n",
    "##### (a) Construct all of the pairwise scatterplots for the variables of the dataset.\n",
    "\n",
    "##### (b) Compute sample means, covariances, and correlations of these variables.\n",
    "\n",
    "##### (c) Create heatmaps for the covariances and correlations from part (b) separately. Which of these two heatmaps is more informative/useful? Why?  What do you observe about these visualiations?\n",
    "\n",
    "##### (d) Report any interesting findings from your exploratory numerical and visual analyses."
   ]
  },
  {
   "cell_type": "code",
   "execution_count": null,
   "metadata": {
    "vscode": {
     "languageId": "plaintext"
    }
   },
   "outputs": [],
   "source": [
    "import pandas as pd"
   ]
  },
  {
   "cell_type": "markdown",
   "metadata": {},
   "source": [
    "#### 5. Design a MapReduce algorithm to take a very large file of integers as input and produce as output the average of all the integers. You do not have to write any code or implement your algorithm, just describe the method you would use in detail. \n",
    "\n",
    "##### Assume that the file of integers is stored in a .csv file. Suppose that this large (so large, 13 whole numbers! &#x1F600;) file of integers looks like this:\n",
    "> `9 10 25 9 36 10 42` <br>\n",
    "> `10 9 45 36 10 9`\n",
    "##### That is the file consists of multiple lines (chunks), and each chunk has a big sequence of integers. You may want to assign each chunk to a separate Mapper. "
   ]
  },
  {
   "cell_type": "markdown",
   "metadata": {},
   "source": [
    "#### 6. Make a copy of CoLab 1 here: https://colab.research.google.com/drive/1S8fagR15E5XK8v8ZIx3QP8p7CHuxy82X?usp=sharing and determine which letter is at the beginning of the most words in the provided dataset.\n",
    "\n",
    "##### The letter that appears at the beginning of the most words in the dataset is \"*TYPE_YOUR_ANSWER*\" (appears *TYPE_YOUR_ANSWER* many times)\n",
    "\n",
    "##### *Please save your CoLab code as a Jupyter notebook (.ipynb) and as a .html file and submit them separately on Canvas.*"
   ]
  }
 ],
 "metadata": {
  "kernelspec": {
   "display_name": "Python 3 (ipykernel)",
   "language": "python",
   "name": "python3"
  },
  "language_info": {
   "codemirror_mode": {
    "name": "ipython",
    "version": 3
   },
   "file_extension": ".py",
   "mimetype": "text/x-python",
   "name": "python",
   "nbconvert_exporter": "python",
   "pygments_lexer": "ipython3",
   "version": "3.11.5"
  }
 },
 "nbformat": 4,
 "nbformat_minor": 4
}
